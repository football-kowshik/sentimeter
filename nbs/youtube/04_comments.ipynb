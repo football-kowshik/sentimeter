{
 "cells": [
  {
   "cell_type": "code",
   "execution_count": null,
   "id": "da9218da",
   "metadata": {},
   "outputs": [],
   "source": [
    "#| default_exp youtube.videos"
   ]
  },
  {
   "cell_type": "markdown",
   "id": "4fb8b918",
   "metadata": {},
   "source": [
    "# 4. Comments"
   ]
  },
  {
   "cell_type": "code",
   "execution_count": null,
   "id": "24c2ce9f",
   "metadata": {},
   "outputs": [],
   "source": [
    "#| hide\n",
    "from nbdev.showdoc import *"
   ]
  },
  {
   "cell_type": "code",
   "execution_count": null,
   "id": "e02f754a",
   "metadata": {},
   "outputs": [],
   "source": [
    "#| export\n",
    "import json\n",
    "from sentimeter.youtube.utils import *"
   ]
  },
  {
   "cell_type": "code",
   "execution_count": null,
   "id": "ac81b2fe",
   "metadata": {},
   "outputs": [],
   "source": []
  },
  {
   "cell_type": "code",
   "execution_count": null,
   "id": "bae2e42e",
   "metadata": {},
   "outputs": [],
   "source": [
    "#| export\n",
    "def fetch_video_comments(video_id, max_comments=None):\n",
    "    youtube = get_resource()\n",
    "    \n",
    "    comments = []\n",
    "    next_page_token = None\n",
    "\n",
    "    while True:\n",
    "        request = youtube.commentThreads().list(\n",
    "            part=\"snippet\",\n",
    "            videoId=video_id,\n",
    "            maxResults=100,\n",
    "            textFormat=\"plainText\",\n",
    "            pageToken=next_page_token\n",
    "        )\n",
    "        response = request.execute()\n",
    "\n",
    "        comments += response[\"items\"]\n",
    "        if max_comments and len(comments) >= max_comments:\n",
    "            return comments[: max_comments]\n",
    "\n",
    "        next_page_token = response.get(\"nextPageToken\")\n",
    "        if not next_page_token:\n",
    "            break\n",
    "\n",
    "    return comments"
   ]
  },
  {
   "cell_type": "code",
   "execution_count": null,
   "id": "6b0fa62b",
   "metadata": {},
   "outputs": [],
   "source": [
    "#| hide\n",
    "#| eval: false\n",
    "sample_video_id = 'NvcQiB05hOM'\n",
    "sample_comments = fetch_video_comments(sample_video_id, max_comments=2)\n",
    "print(json.dumps(sample_comments, indent=4))"
   ]
  },
  {
   "cell_type": "code",
   "execution_count": null,
   "id": "189e570b",
   "metadata": {},
   "outputs": [],
   "source": []
  },
  {
   "cell_type": "code",
   "execution_count": null,
   "id": "b828dcf4",
   "metadata": {},
   "outputs": [],
   "source": [
    "#| export\n",
    "def extract_comment_texts(comments):\n",
    "    texts = []\n",
    "    for item in comments:\n",
    "        text = item[\"snippet\"][\"topLevelComment\"][\"snippet\"][\"textDisplay\"]\n",
    "        texts.append(text)\n",
    "    return texts"
   ]
  },
  {
   "cell_type": "code",
   "execution_count": null,
   "id": "8cbb2f21",
   "metadata": {},
   "outputs": [],
   "source": [
    "#| hide\n",
    "#| eval: false\n",
    "extract_comment_texts(sample_comments)"
   ]
  },
  {
   "cell_type": "code",
   "execution_count": null,
   "id": "d5e1537b",
   "metadata": {},
   "outputs": [],
   "source": []
  },
  {
   "cell_type": "code",
   "execution_count": null,
   "id": "f0acfe03",
   "metadata": {},
   "outputs": [],
   "source": [
    "#| hide\n",
    "import nbdev; nbdev.nbdev_export()"
   ]
  },
  {
   "cell_type": "code",
   "execution_count": null,
   "id": "a76e5cd9",
   "metadata": {},
   "outputs": [],
   "source": []
  }
 ],
 "metadata": {
  "kernelspec": {
   "display_name": "python3",
   "language": "python",
   "name": "python3"
  }
 },
 "nbformat": 4,
 "nbformat_minor": 5
}
