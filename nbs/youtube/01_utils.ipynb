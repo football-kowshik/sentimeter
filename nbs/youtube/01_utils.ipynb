{
 "cells": [
  {
   "cell_type": "code",
   "execution_count": null,
   "id": "6e59a219",
   "metadata": {},
   "outputs": [],
   "source": [
    "#| default_exp youtube.utils"
   ]
  },
  {
   "cell_type": "markdown",
   "id": "18ff889f",
   "metadata": {},
   "source": [
    "# 1. Utils"
   ]
  },
  {
   "cell_type": "code",
   "execution_count": null,
   "id": "fba4c9bf",
   "metadata": {},
   "outputs": [],
   "source": [
    "#| hide\n",
    "from nbdev.showdoc import *"
   ]
  },
  {
   "cell_type": "code",
   "execution_count": null,
   "id": "60301ab8",
   "metadata": {},
   "outputs": [],
   "source": [
    "#| export\n",
    "import os\n",
    "from googleapiclient.discovery import build\n",
    "from dotenv import load_dotenv"
   ]
  },
  {
   "cell_type": "code",
   "execution_count": null,
   "id": "84fbf61d",
   "metadata": {},
   "outputs": [],
   "source": [
    "load_dotenv()"
   ]
  },
  {
   "cell_type": "code",
   "execution_count": null,
   "id": "ced4e7bc",
   "metadata": {},
   "outputs": [],
   "source": []
  },
  {
   "cell_type": "code",
   "execution_count": null,
   "id": "613af721",
   "metadata": {},
   "outputs": [],
   "source": [
    "# | export\n",
    "def get_api_key():\n",
    "    return os.getenv(\"YOUTUBE_API_KEY\")"
   ]
  },
  {
   "cell_type": "code",
   "execution_count": null,
   "id": "21472bdc",
   "metadata": {},
   "outputs": [],
   "source": [
    "#| hide\n",
    "#| eval: false\n",
    "\n",
    "get_api_key()"
   ]
  },
  {
   "cell_type": "code",
   "execution_count": null,
   "id": "40fa14fb",
   "metadata": {},
   "outputs": [],
   "source": []
  },
  {
   "cell_type": "code",
   "execution_count": null,
   "id": "31398eff",
   "metadata": {},
   "outputs": [],
   "source": [
    "# | export\n",
    "def get_resource():\n",
    "    return build(\"youtube\", \"v3\", developerKey = os.getenv(\"YOUTUBE_API_KEY\"), cache_discovery=False)"
   ]
  },
  {
   "cell_type": "code",
   "execution_count": null,
   "id": "9029481d",
   "metadata": {},
   "outputs": [],
   "source": [
    "#| hide\n",
    "#| eval: false\n",
    "\n",
    "get_resource()"
   ]
  },
  {
   "cell_type": "code",
   "execution_count": null,
   "id": "543326d7",
   "metadata": {},
   "outputs": [],
   "source": []
  },
  {
   "cell_type": "code",
   "execution_count": null,
   "id": "9580cb5c",
   "metadata": {},
   "outputs": [],
   "source": [
    "#| hide\n",
    "import nbdev; nbdev.nbdev_export()"
   ]
  },
  {
   "cell_type": "code",
   "execution_count": null,
   "id": "bbbc9179",
   "metadata": {},
   "outputs": [],
   "source": []
  },
  {
   "cell_type": "code",
   "execution_count": null,
   "id": "f0787357",
   "metadata": {},
   "outputs": [],
   "source": []
  }
 ],
 "metadata": {
  "kernelspec": {
   "display_name": "python3",
   "language": "python",
   "name": "python3"
  }
 },
 "nbformat": 4,
 "nbformat_minor": 5
}
