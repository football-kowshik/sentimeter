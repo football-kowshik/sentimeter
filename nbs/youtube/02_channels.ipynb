{
 "cells": [
  {
   "cell_type": "code",
   "execution_count": null,
   "id": "2520441c",
   "metadata": {},
   "outputs": [],
   "source": [
    "#| default_exp youtube.channels"
   ]
  },
  {
   "cell_type": "markdown",
   "id": "3c0f4e17",
   "metadata": {},
   "source": [
    "# 2. Channels"
   ]
  },
  {
   "cell_type": "code",
   "execution_count": null,
   "id": "9b5233f8",
   "metadata": {},
   "outputs": [],
   "source": [
    "#| hide\n",
    "from nbdev.showdoc import *"
   ]
  },
  {
   "cell_type": "code",
   "execution_count": null,
   "id": "a274ca63",
   "metadata": {},
   "outputs": [],
   "source": [
    "#| export\n",
    "import json\n",
    "from sentimeter.youtube.utils import *"
   ]
  },
  {
   "cell_type": "code",
   "execution_count": null,
   "id": "6ddd7e8a",
   "metadata": {},
   "outputs": [],
   "source": []
  },
  {
   "cell_type": "code",
   "execution_count": null,
   "id": "e577cd5e",
   "metadata": {},
   "outputs": [],
   "source": [
    "#| export\n",
    "def fetch_channel_details(handle):\n",
    "    youtube = get_resource()\n",
    "    response = youtube.channels().list(part=\"id\", forHandle=handle.lstrip(\"@\")).execute()\n",
    "    return response"
   ]
  },
  {
   "cell_type": "code",
   "execution_count": null,
   "id": "1c3d49fb",
   "metadata": {},
   "outputs": [],
   "source": [
    "#| hide\n",
    "#| eval: false\n",
    "sample_handle = 'IndianFootball'\n",
    "sample_channel_details = fetch_channel_details(sample_handle)\n",
    "print(json.dumps(sample_channel_details, indent=4))"
   ]
  },
  {
   "cell_type": "code",
   "execution_count": null,
   "id": "41486c45",
   "metadata": {},
   "outputs": [],
   "source": []
  },
  {
   "cell_type": "code",
   "execution_count": null,
   "id": "5088400e",
   "metadata": {},
   "outputs": [],
   "source": [
    "#| export\n",
    "def extract_channel_id(details):\n",
    "    return details['items'][0]['id']"
   ]
  },
  {
   "cell_type": "code",
   "execution_count": null,
   "id": "664cd6f7",
   "metadata": {},
   "outputs": [],
   "source": [
    "#| hide\n",
    "#| eval: false\n",
    "sample_channel_id = extract_channel_id(sample_channel_details)\n",
    "sample_channel_id"
   ]
  },
  {
   "cell_type": "code",
   "execution_count": null,
   "id": "7e115566",
   "metadata": {},
   "outputs": [],
   "source": []
  },
  {
   "cell_type": "code",
   "execution_count": null,
   "id": "c3522845",
   "metadata": {},
   "outputs": [],
   "source": [
    "#| hide\n",
    "import nbdev; nbdev.nbdev_export()"
   ]
  },
  {
   "cell_type": "code",
   "execution_count": null,
   "id": "073582d5",
   "metadata": {},
   "outputs": [],
   "source": []
  }
 ],
 "metadata": {
  "kernelspec": {
   "display_name": "python3",
   "language": "python",
   "name": "python3"
  }
 },
 "nbformat": 4,
 "nbformat_minor": 5
}
