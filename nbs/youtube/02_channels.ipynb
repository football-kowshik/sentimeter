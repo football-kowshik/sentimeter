{
 "cells": [
  {
   "cell_type": "code",
   "execution_count": null,
   "id": "2520441c",
   "metadata": {},
   "outputs": [],
   "source": [
    "#| default_exp youtube.channels"
   ]
  },
  {
   "cell_type": "markdown",
   "id": "3c0f4e17",
   "metadata": {},
   "source": [
    "# 2. Channels"
   ]
  },
  {
   "cell_type": "code",
   "execution_count": null,
   "id": "9b5233f8",
   "metadata": {},
   "outputs": [],
   "source": [
    "#| hide\n",
    "from nbdev.showdoc import *"
   ]
  },
  {
   "cell_type": "code",
   "execution_count": null,
   "id": "6ddd7e8a",
   "metadata": {},
   "outputs": [],
   "source": []
  },
  {
   "cell_type": "code",
   "execution_count": null,
   "id": "e577cd5e",
   "metadata": {},
   "outputs": [],
   "source": [
    "#| export\n",
    "import resource\n",
    "\n",
    "def fetch_channel_details(handle):\n",
    "    youtube = get_resource()\n",
    "    print(youtube)\n",
    "    return youtube\n",
    "    response = youtube.channels().list(part=\"id\", forHandle=handle.lstrip(\"@\")).execute()\n",
    "    return response"
   ]
  },
  {
   "cell_type": "code",
   "execution_count": null,
   "id": "1c3d49fb",
   "metadata": {},
   "outputs": [
    {
     "ename": "NameError",
     "evalue": "name 'get_resource' is not defined",
     "output_type": "error",
     "traceback": [
      "\u001b[31m---------------------------------------------------------------------------\u001b[39m",
      "\u001b[31mNameError\u001b[39m                                 Traceback (most recent call last)",
      "\u001b[36mCell\u001b[39m\u001b[36m \u001b[39m\u001b[32mIn[4]\u001b[39m\u001b[32m, line 5\u001b[39m\n\u001b[32m      3\u001b[39m sample_handle = \u001b[33m'\u001b[39m\u001b[33mIndianFootball\u001b[39m\u001b[33m'\u001b[39m\n\u001b[32m      4\u001b[39m sample_video_id = \u001b[33m'\u001b[39m\u001b[33mNvcQiB05hOM\u001b[39m\u001b[33m'\u001b[39m\n\u001b[32m----> \u001b[39m\u001b[32m5\u001b[39m \u001b[43mfetch_channel_details\u001b[49m\u001b[43m(\u001b[49m\u001b[43msample_handle\u001b[49m\u001b[43m)\u001b[49m\n",
      "\u001b[36mCell\u001b[39m\u001b[36m \u001b[39m\u001b[32mIn[3]\u001b[39m\u001b[32m, line 5\u001b[39m, in \u001b[36mfetch_channel_details\u001b[39m\u001b[34m(handle)\u001b[39m\n\u001b[32m      4\u001b[39m \u001b[38;5;28;01mdef\u001b[39;00m\u001b[38;5;250m \u001b[39m\u001b[34mfetch_channel_details\u001b[39m(handle):\n\u001b[32m----> \u001b[39m\u001b[32m5\u001b[39m     youtube = \u001b[43mget_resource\u001b[49m()\n\u001b[32m      6\u001b[39m     \u001b[38;5;28mprint\u001b[39m(youtube)\n\u001b[32m      7\u001b[39m     \u001b[38;5;28;01mreturn\u001b[39;00m youtube\n",
      "\u001b[31mNameError\u001b[39m: name 'get_resource' is not defined"
     ]
    }
   ],
   "source": [
    "#| hide\n",
    "#| eval: false\n",
    "sample_handle = 'IndianFootball'\n",
    "sample_video_id = 'NvcQiB05hOM'\n",
    "fetch_channel_details(sample_handle)"
   ]
  },
  {
   "cell_type": "code",
   "execution_count": null,
   "id": "41486c45",
   "metadata": {},
   "outputs": [],
   "source": []
  },
  {
   "cell_type": "code",
   "execution_count": null,
   "id": "b9870e22",
   "metadata": {},
   "outputs": [],
   "source": []
  },
  {
   "cell_type": "code",
   "execution_count": null,
   "id": "c3522845",
   "metadata": {},
   "outputs": [],
   "source": [
    "#| hide\n",
    "import nbdev; nbdev.nbdev_export()"
   ]
  },
  {
   "cell_type": "code",
   "execution_count": null,
   "id": "073582d5",
   "metadata": {},
   "outputs": [],
   "source": []
  }
 ],
 "metadata": {
  "kernelspec": {
   "display_name": "python3",
   "language": "python",
   "name": "python3"
  }
 },
 "nbformat": 4,
 "nbformat_minor": 5
}
