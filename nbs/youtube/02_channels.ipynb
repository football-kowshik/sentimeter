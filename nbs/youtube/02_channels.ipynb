{
 "cells": [
  {
   "cell_type": "code",
   "execution_count": null,
   "id": "2520441c",
   "metadata": {},
   "outputs": [],
   "source": [
    "#| default_exp youtube.channels"
   ]
  },
  {
   "cell_type": "markdown",
   "id": "3c0f4e17",
   "metadata": {},
   "source": [
    "# 2. Channels"
   ]
  },
  {
   "cell_type": "code",
   "execution_count": null,
   "id": "9b5233f8",
   "metadata": {},
   "outputs": [],
   "source": [
    "#| hide\n",
    "from nbdev.showdoc import *"
   ]
  },
  {
   "cell_type": "code",
   "execution_count": null,
   "id": "a274ca63",
   "metadata": {},
   "outputs": [],
   "source": [
    "#| export\n",
    "import json\n",
    "from sentimeter.utils import *\n",
    "from sentimeter.youtube.utils import *"
   ]
  },
  {
   "cell_type": "code",
   "execution_count": null,
   "id": "10f22191",
   "metadata": {},
   "outputs": [],
   "source": [
    "#| export\n",
    "\n",
    "import logging\n",
    "logging.basicConfig(\n",
    "    level=logging.INFO,\n",
    "    format=\"%(asctime)s [%(levelname)s] %(message)s\"\n",
    ")\n",
    "logger = logging.getLogger(__name__)"
   ]
  },
  {
   "cell_type": "code",
   "execution_count": null,
   "id": "8cae5d9c",
   "metadata": {},
   "outputs": [],
   "source": [
    "#| hide\n",
    "#| eval: false\n",
    "\n",
    "data_directory = get_data_directory()\n",
    "data_directory"
   ]
  },
  {
   "cell_type": "code",
   "execution_count": null,
   "id": "6fee6bd3",
   "metadata": {},
   "outputs": [],
   "source": []
  },
  {
   "cell_type": "code",
   "execution_count": null,
   "id": "e577cd5e",
   "metadata": {},
   "outputs": [],
   "source": [
    "#| export\n",
    "def fetch_channel_details(youtube, handle):\n",
    "    response = youtube.channels().list(part=\"id\", forHandle=handle.lstrip(\"@\")).execute()\n",
    "    return response"
   ]
  },
  {
   "cell_type": "code",
   "execution_count": null,
   "id": "1c3d49fb",
   "metadata": {},
   "outputs": [],
   "source": [
    "#| hide\n",
    "#| eval: false\n",
    "sample_handle = 'IndianFootball'\n",
    "youtube = get_resource()\n",
    "sample_channel_details = fetch_channel_details(youtube, sample_handle)\n",
    "print(json.dumps(sample_channel_details, indent=4))"
   ]
  },
  {
   "cell_type": "code",
   "execution_count": null,
   "id": "38b137c4",
   "metadata": {},
   "outputs": [],
   "source": []
  },
  {
   "cell_type": "code",
   "execution_count": null,
   "id": "6a1dc870",
   "metadata": {},
   "outputs": [],
   "source": [
    "#| export\n",
    "def task_fetch_channel_details():\n",
    "    logger.info(\"Fetching channel details.\")\n",
    "\n",
    "    directory = data_directory / \"youtube\" / 'raw' / 'channels'\n",
    "    directory.mkdir(parents=True, exist_ok=True)\n",
    "\n",
    "    configs = read_config()\n",
    "    youtube = get_resource()\n",
    "    for channel in configs['youtube']['channels']:\n",
    "        channel_details = fetch_channel_details(youtube, channel)\n",
    "        with open(directory / f'{channel}.json', 'w') as f:\n",
    "            json.dump(channel_details, f, indent = 4)\n",
    "\n",
    "    logger.info(f\"Channel details saved successfully.\")"
   ]
  },
  {
   "cell_type": "code",
   "execution_count": null,
   "id": "07f08a78",
   "metadata": {},
   "outputs": [],
   "source": [
    "#| hide\n",
    "#| eval: false\n",
    "\n",
    "task_fetch_channel_details()"
   ]
  },
  {
   "cell_type": "code",
   "execution_count": null,
   "id": "c371c9b2",
   "metadata": {},
   "outputs": [],
   "source": []
  },
  {
   "cell_type": "code",
   "execution_count": null,
   "id": "5088400e",
   "metadata": {},
   "outputs": [],
   "source": [
    "#| export\n",
    "def extract_channel_id(details):\n",
    "    return details['items'][0]['id']"
   ]
  },
  {
   "cell_type": "code",
   "execution_count": null,
   "id": "664cd6f7",
   "metadata": {},
   "outputs": [],
   "source": [
    "#| hide\n",
    "#| eval: false\n",
    "sample_channel_id = extract_channel_id(sample_channel_details)\n",
    "sample_channel_id"
   ]
  },
  {
   "cell_type": "code",
   "execution_count": null,
   "id": "7e115566",
   "metadata": {},
   "outputs": [],
   "source": []
  },
  {
   "cell_type": "code",
   "execution_count": null,
   "id": "c3522845",
   "metadata": {},
   "outputs": [],
   "source": [
    "#| hide\n",
    "import nbdev; nbdev.nbdev_export()"
   ]
  },
  {
   "cell_type": "code",
   "execution_count": null,
   "id": "073582d5",
   "metadata": {},
   "outputs": [],
   "source": []
  }
 ],
 "metadata": {
  "kernelspec": {
   "display_name": "python3",
   "language": "python",
   "name": "python3"
  }
 },
 "nbformat": 4,
 "nbformat_minor": 5
}
