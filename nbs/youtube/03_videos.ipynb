{
 "cells": [
  {
   "cell_type": "code",
   "execution_count": null,
   "id": "1439e40f",
   "metadata": {},
   "outputs": [],
   "source": [
    "#| default_exp youtube.videos"
   ]
  },
  {
   "cell_type": "markdown",
   "id": "800010e5",
   "metadata": {},
   "source": [
    "# 3. Videos"
   ]
  },
  {
   "cell_type": "code",
   "execution_count": null,
   "id": "1e9d4ae5",
   "metadata": {},
   "outputs": [],
   "source": [
    "#| hide\n",
    "from nbdev.showdoc import *"
   ]
  },
  {
   "cell_type": "code",
   "execution_count": null,
   "id": "79e9c8e6",
   "metadata": {},
   "outputs": [],
   "source": [
    "#| export\n",
    "import json\n",
    "from sentimeter.youtube.utils import *"
   ]
  },
  {
   "cell_type": "code",
   "execution_count": null,
   "id": "97c01953",
   "metadata": {},
   "outputs": [],
   "source": []
  },
  {
   "cell_type": "code",
   "execution_count": null,
   "id": "7ac72502",
   "metadata": {},
   "outputs": [],
   "source": [
    "#| export\n",
    "def fetch_channel_videos(channel_id, latest=10):\n",
    "    youtube = get_resource()\n",
    "    videos = youtube.search().list(\n",
    "        part = \"id,snippet\",\n",
    "        channelId = channel_id,\n",
    "        order = \"date\",\n",
    "        maxResults = latest,\n",
    "        type = \"video\"\n",
    "    ).execute()['items']\n",
    "    return videos"
   ]
  },
  {
   "cell_type": "code",
   "execution_count": null,
   "id": "9f7424f8",
   "metadata": {},
   "outputs": [],
   "source": [
    "#| hide\n",
    "#| eval: false\n",
    "sample_channel_id = 'UCjiPxzIyNtfQ2HZZ1eVjZlg'\n",
    "video_details = fetch_channel_videos(sample_channel_id, latest=1)\n",
    "print(json.dumps(video_details, indent=4))"
   ]
  },
  {
   "cell_type": "code",
   "execution_count": null,
   "id": "959da6c1",
   "metadata": {},
   "outputs": [],
   "source": []
  },
  {
   "cell_type": "code",
   "execution_count": null,
   "id": "7af51370",
   "metadata": {},
   "outputs": [],
   "source": [
    "#| export\n",
    "def extract_video_id(details):\n",
    "    return details['id']['videoId']"
   ]
  },
  {
   "cell_type": "code",
   "execution_count": null,
   "id": "5d8d05e3",
   "metadata": {},
   "outputs": [],
   "source": [
    "#| hide\n",
    "#| eval: false\n",
    "\n",
    "extract_video_id(video_details[0])"
   ]
  },
  {
   "cell_type": "code",
   "execution_count": null,
   "id": "761aa295",
   "metadata": {},
   "outputs": [],
   "source": []
  },
  {
   "cell_type": "code",
   "execution_count": null,
   "id": "2a8638a4",
   "metadata": {},
   "outputs": [],
   "source": [
    "#| hide\n",
    "import nbdev; nbdev.nbdev_export()"
   ]
  },
  {
   "cell_type": "code",
   "execution_count": null,
   "id": "0c6f26fb",
   "metadata": {},
   "outputs": [],
   "source": []
  }
 ],
 "metadata": {
  "kernelspec": {
   "display_name": "python3",
   "language": "python",
   "name": "python3"
  }
 },
 "nbformat": 4,
 "nbformat_minor": 5
}
