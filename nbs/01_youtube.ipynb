{
 "cells": [
  {
   "cell_type": "code",
   "execution_count": null,
   "id": "786359b9",
   "metadata": {},
   "outputs": [],
   "source": [
    "#| default_exp youtube"
   ]
  },
  {
   "cell_type": "markdown",
   "id": "1ec8b1de",
   "metadata": {},
   "source": [
    "# YouTube"
   ]
  },
  {
   "cell_type": "code",
   "execution_count": null,
   "id": "a08ec359",
   "metadata": {},
   "outputs": [],
   "source": [
    "#| hide\n",
    "from nbdev.showdoc import *"
   ]
  },
  {
   "cell_type": "code",
   "execution_count": null,
   "id": "0879dddf",
   "metadata": {},
   "outputs": [],
   "source": [
    "#| export\n",
    "from pathlib import Path\n",
    "import os\n",
    "import yaml\n",
    "import json\n",
    "from pathlib import Path\n",
    "\n",
    "from googleapiclient.discovery import build"
   ]
  },
  {
   "cell_type": "code",
   "execution_count": null,
   "id": "7034fdfe",
   "metadata": {},
   "outputs": [],
   "source": [
    "#| hide\n",
    "#| eval: false\n",
    "config = load_config(config_path =\"../config.yaml\")"
   ]
  },
  {
   "cell_type": "code",
   "execution_count": null,
   "id": "90979a75",
   "metadata": {},
   "outputs": [],
   "source": [
    "#| hide\n",
    "#| eval: false\n",
    "data_dir = Path('../data/')\n",
    "os.makedirs(data_dir, exist_ok=True)"
   ]
  },
  {
   "cell_type": "code",
   "execution_count": null,
   "id": "8f017add",
   "metadata": {},
   "outputs": [],
   "source": [
    "#| hide\n",
    "#| eval: false\n",
    "youtube = build(\"youtube\", \"v3\", developerKey = os.getenv(\"YOUTUBE_API_KEY\"))"
   ]
  },
  {
   "cell_type": "code",
   "execution_count": null,
   "id": "b0752386",
   "metadata": {},
   "outputs": [],
   "source": []
  },
  {
   "cell_type": "code",
   "execution_count": null,
   "id": "36d013ee",
   "metadata": {},
   "outputs": [],
   "source": []
  },
  {
   "cell_type": "code",
   "execution_count": null,
   "id": "93c664e5",
   "metadata": {},
   "outputs": [],
   "source": [
    "#| hide\n",
    "#| eval: false\n",
    "sample_handle = 'IndianFootball'\n",
    "sample_video_id = 'NvcQiB05hOM'"
   ]
  },
  {
   "cell_type": "code",
   "execution_count": null,
   "id": "8dfb8a63",
   "metadata": {},
   "outputs": [],
   "source": []
  },
  {
   "cell_type": "markdown",
   "id": "9917abd3",
   "metadata": {},
   "source": [
    "# Section 1. Channel"
   ]
  },
  {
   "cell_type": "code",
   "execution_count": null,
   "id": "1cfc3e45",
   "metadata": {},
   "outputs": [],
   "source": [
    "#| hide\n",
    "#| eval: false\n",
    "\n",
    "def fetch_channel_details(youtube, handle):\n",
    "    response = youtube.channels().list(part=\"id\", forHandle=handle.lstrip(\"@\")).execute()\n",
    "    return response"
   ]
  },
  {
   "cell_type": "code",
   "execution_count": null,
   "id": "7e6cf2c0",
   "metadata": {},
   "outputs": [
    {
     "name": "stdout",
     "output_type": "stream",
     "text": [
      "{\n",
      "    \"kind\": \"youtube#channelListResponse\",\n",
      "    \"etag\": \"JklBZId-ggPuKbmQ5aJ--Guh2vQ\",\n",
      "    \"pageInfo\": {\n",
      "        \"totalResults\": 1,\n",
      "        \"resultsPerPage\": 5\n",
      "    },\n",
      "    \"items\": [\n",
      "        {\n",
      "            \"kind\": \"youtube#channel\",\n",
      "            \"etag\": \"Brtx0E8XE-dICIQSWnKHveqsJb8\",\n",
      "            \"id\": \"UCjiPxzIyNtfQ2HZZ1eVjZlg\"\n",
      "        }\n",
      "    ]\n",
      "}\n"
     ]
    }
   ],
   "source": [
    "#| hide\n",
    "#| eval: false\n",
    "\n",
    "sample_channel_details = fetch_channel_details(youtube, sample_handle)\n",
    "print(json.dumps(sample_channel_details, indent=4))"
   ]
  },
  {
   "cell_type": "code",
   "execution_count": null,
   "id": "dd09e287",
   "metadata": {},
   "outputs": [],
   "source": [
    "#| hide\n",
    "#| eval: false\n",
    "\n",
    "def extract_channel_id(details):\n",
    "    return details['items'][0]['id']"
   ]
  },
  {
   "cell_type": "code",
   "execution_count": null,
   "id": "2af99f1b",
   "metadata": {},
   "outputs": [
    {
     "data": {
      "text/plain": [
       "'UCjiPxzIyNtfQ2HZZ1eVjZlg'"
      ]
     },
     "execution_count": null,
     "metadata": {},
     "output_type": "execute_result"
    }
   ],
   "source": [
    "#| hide\n",
    "#| eval: false\n",
    "\n",
    "sample_channel_id = extract_channel_id(sample_channel_details)\n",
    "sample_channel_id"
   ]
  },
  {
   "cell_type": "code",
   "execution_count": null,
   "id": "73fecef5",
   "metadata": {},
   "outputs": [],
   "source": []
  },
  {
   "cell_type": "markdown",
   "id": "54d3bd29",
   "metadata": {},
   "source": [
    "# Section 2. Videos"
   ]
  },
  {
   "cell_type": "code",
   "execution_count": null,
   "id": "3c8fea09",
   "metadata": {},
   "outputs": [],
   "source": [
    "#| hide\n",
    "#| eval: false\n",
    "\n",
    "def fetch_latest_videos(youtube, channel_id, latest=10):\n",
    "    video = youtube.search().list(\n",
    "        part = \"id,snippet\",\n",
    "        channelId = channel_id,\n",
    "        order = \"date\",\n",
    "        maxResults = latest,\n",
    "        type = \"video\"\n",
    "    ).execute()\n",
    "    return video"
   ]
  },
  {
   "cell_type": "code",
   "execution_count": null,
   "id": "049bbef6",
   "metadata": {},
   "outputs": [
    {
     "name": "stdout",
     "output_type": "stream",
     "text": [
      "{\n",
      "    \"kind\": \"youtube#searchListResponse\",\n",
      "    \"etag\": \"LIbcv1ZP4XX1TxCd0wsnjsV6uhc\",\n",
      "    \"nextPageToken\": \"CAEQAA\",\n",
      "    \"regionCode\": \"IN\",\n",
      "    \"pageInfo\": {\n",
      "        \"totalResults\": 2,\n",
      "        \"resultsPerPage\": 1\n",
      "    },\n",
      "    \"items\": [\n",
      "        {\n",
      "            \"kind\": \"youtube#searchResult\",\n",
      "            \"etag\": \"HqEcOJ0i8CVdHT3wcCaYg4HCZ0o\",\n",
      "            \"id\": {\n",
      "                \"kind\": \"youtube#video\",\n",
      "                \"videoId\": \"V_zA6azPYdQ\"\n",
      "            },\n",
      "            \"snippet\": {\n",
      "                \"publishedAt\": \"2025-09-13T05:11:10Z\",\n",
      "                \"channelId\": \"UCjiPxzIyNtfQ2HZZ1eVjZlg\",\n",
      "                \"title\": \"Yes, he really &#39;\\ud835\\ude23\\ud835\\ude30\\ud835\\ude36\\ud835\\ude35 \\ud835\\ude35\\ud835\\ude30 \\ud835\\ude25\\ud835\\ude30 \\ud835\\ude2a\\ud835\\ude35.. and you can&#39;t do anything &#39;\\ud835\\ude23\\ud835\\ude30\\ud835\\ude36\\ud835\\ude35 \\ud835\\ude2a\\ud835\\ude35 \\ud83e\\udd76\",\n",
      "                \"description\": \"AFCU23 #BlueColts #IndianFootball \\u26bd Find us on - Website: https://www.the-aiff.com Instagram: ...\",\n",
      "                \"thumbnails\": {\n",
      "                    \"default\": {\n",
      "                        \"url\": \"https://i.ytimg.com/vi/V_zA6azPYdQ/default.jpg\",\n",
      "                        \"width\": 120,\n",
      "                        \"height\": 90\n",
      "                    },\n",
      "                    \"medium\": {\n",
      "                        \"url\": \"https://i.ytimg.com/vi/V_zA6azPYdQ/mqdefault.jpg\",\n",
      "                        \"width\": 320,\n",
      "                        \"height\": 180\n",
      "                    },\n",
      "                    \"high\": {\n",
      "                        \"url\": \"https://i.ytimg.com/vi/V_zA6azPYdQ/hqdefault.jpg\",\n",
      "                        \"width\": 480,\n",
      "                        \"height\": 360\n",
      "                    }\n",
      "                },\n",
      "                \"channelTitle\": \"Indian Football\",\n",
      "                \"liveBroadcastContent\": \"none\",\n",
      "                \"publishTime\": \"2025-09-13T05:11:10Z\"\n",
      "            }\n",
      "        }\n",
      "    ]\n",
      "}\n"
     ]
    }
   ],
   "source": [
    "#| hide\n",
    "#| eval: false\n",
    "\n",
    "sample_videos = fetch_latest_videos(youtube, sample_channel_id, latest=1)\n",
    "print(json.dumps(sample_videos, indent=4))"
   ]
  },
  {
   "cell_type": "code",
   "execution_count": null,
   "id": "3355cc9a",
   "metadata": {},
   "outputs": [],
   "source": []
  },
  {
   "cell_type": "code",
   "execution_count": null,
   "id": "0c039b9b",
   "metadata": {},
   "outputs": [],
   "source": [
    "#| hide\n",
    "#| eval: false\n",
    "\n",
    "def extract_video_id(details):\n",
    "    return details['id']['videoId']"
   ]
  },
  {
   "cell_type": "code",
   "execution_count": null,
   "id": "fb685b5b",
   "metadata": {},
   "outputs": [
    {
     "name": "stdout",
     "output_type": "stream",
     "text": [
      "V_zA6azPYdQ\n"
     ]
    }
   ],
   "source": [
    "#| hide\n",
    "#| eval: false\n",
    "\n",
    "sample_video_id = extract_video_id(sample_videos['items'][0])\n",
    "print(sample_video_id)"
   ]
  },
  {
   "cell_type": "code",
   "execution_count": null,
   "id": "8b00c69a",
   "metadata": {},
   "outputs": [],
   "source": []
  },
  {
   "cell_type": "markdown",
   "id": "95a5bff3",
   "metadata": {},
   "source": [
    "# Section 3. Comments"
   ]
  },
  {
   "cell_type": "code",
   "execution_count": null,
   "id": "74ff6aa0",
   "metadata": {},
   "outputs": [],
   "source": [
    "#| hide\n",
    "#| eval: false\n",
    "\n",
    "def fetch_video_comments(youtube, video_id, max_comments=None):\n",
    "    comments = []\n",
    "    next_page_token = None\n",
    "\n",
    "    while True:\n",
    "        request = youtube.commentThreads().list(\n",
    "            part=\"snippet\",\n",
    "            videoId=video_id,\n",
    "            maxResults=100,\n",
    "            textFormat=\"plainText\",\n",
    "            pageToken=next_page_token\n",
    "        )\n",
    "        response = request.execute()\n",
    "\n",
    "        comments += response[\"items\"]\n",
    "        if max_comments and len(comments) >= max_comments:\n",
    "            return comments[: max_comments]\n",
    "\n",
    "        next_page_token = response.get(\"nextPageToken\")\n",
    "        if not next_page_token:\n",
    "            break\n",
    "\n",
    "    return comments"
   ]
  },
  {
   "cell_type": "code",
   "execution_count": null,
   "id": "6c8dcb8b",
   "metadata": {},
   "outputs": [
    {
     "name": "stdout",
     "output_type": "stream",
     "text": [
      "[\n",
      "    {\n",
      "        \"kind\": \"youtube#commentThread\",\n",
      "        \"etag\": \"XngeWkSs1pC5_BZ6Z8-t0R4nSvE\",\n",
      "        \"id\": \"UgxpWqXlOPUmkRf_aON4AaABAg\",\n",
      "        \"snippet\": {\n",
      "            \"channelId\": \"UCjiPxzIyNtfQ2HZZ1eVjZlg\",\n",
      "            \"videoId\": \"V_zA6azPYdQ\",\n",
      "            \"topLevelComment\": {\n",
      "                \"kind\": \"youtube#comment\",\n",
      "                \"etag\": \"zeXf8cppfdPsrbZHJoKY_sxxO-I\",\n",
      "                \"id\": \"UgxpWqXlOPUmkRf_aON4AaABAg\",\n",
      "                \"snippet\": {\n",
      "                    \"channelId\": \"UCjiPxzIyNtfQ2HZZ1eVjZlg\",\n",
      "                    \"videoId\": \"V_zA6azPYdQ\",\n",
      "                    \"textDisplay\": \"Crazy \\u2764\",\n",
      "                    \"textOriginal\": \"Crazy \\u2764\",\n",
      "                    \"authorDisplayName\": \"@LonelyMani\",\n",
      "                    \"authorProfileImageUrl\": \"https://yt3.ggpht.com/7HwTVtyK3n-i9NI4xUd3-CNDRg__Ji8G3XKyBH8rJG22uwA5B9CtAYhK31uQe0ZU75PETIv0ww=s48-c-k-c0x00ffffff-no-rj\",\n",
      "                    \"authorChannelUrl\": \"http://www.youtube.com/@LonelyMani\",\n",
      "                    \"authorChannelId\": {\n",
      "                        \"value\": \"UCfzQu8q3u6bem-9nD1KINfA\"\n",
      "                    },\n",
      "                    \"canRate\": true,\n",
      "                    \"viewerRating\": \"none\",\n",
      "                    \"likeCount\": 0,\n",
      "                    \"publishedAt\": \"2025-09-14T12:37:22Z\",\n",
      "                    \"updatedAt\": \"2025-09-14T12:37:22Z\"\n",
      "                }\n",
      "            },\n",
      "            \"canReply\": true,\n",
      "            \"totalReplyCount\": 0,\n",
      "            \"isPublic\": true\n",
      "        }\n",
      "    }\n",
      "]\n"
     ]
    }
   ],
   "source": [
    "#| hide\n",
    "#| eval: false\n",
    "\n",
    "sample_comments = fetch_video_comments(youtube, sample_video_id, max_comments=1)\n",
    "print(json.dumps(sample_comments, indent=4))"
   ]
  },
  {
   "cell_type": "code",
   "execution_count": null,
   "id": "4ac7e81b",
   "metadata": {},
   "outputs": [],
   "source": []
  },
  {
   "cell_type": "code",
   "execution_count": null,
   "id": "ee330b67",
   "metadata": {},
   "outputs": [],
   "source": [
    "#| hide\n",
    "#| eval: false\n",
    "\n",
    "def extract_comment_texts(comments):\n",
    "    texts = []\n",
    "    for item in comments:\n",
    "        text = item[\"snippet\"][\"topLevelComment\"][\"snippet\"][\"textDisplay\"]\n",
    "        texts.append(text)\n",
    "    return texts"
   ]
  },
  {
   "cell_type": "code",
   "execution_count": null,
   "id": "9308f502",
   "metadata": {},
   "outputs": [
    {
     "data": {
      "text/plain": [
       "['Crazy ❤']"
      ]
     },
     "execution_count": null,
     "metadata": {},
     "output_type": "execute_result"
    }
   ],
   "source": [
    "#| hide\n",
    "#| eval: false\n",
    "\n",
    "extract_comment_texts(sample_comments)"
   ]
  },
  {
   "cell_type": "code",
   "execution_count": null,
   "id": "78c8ce34",
   "metadata": {},
   "outputs": [],
   "source": []
  },
  {
   "cell_type": "code",
   "execution_count": null,
   "id": "7fb28d83",
   "metadata": {},
   "outputs": [],
   "source": [
    "#| hide\n",
    "import nbdev; nbdev.nbdev_export()"
   ]
  },
  {
   "cell_type": "code",
   "execution_count": null,
   "id": "abfd43ba",
   "metadata": {},
   "outputs": [],
   "source": []
  }
 ],
 "metadata": {
  "kernelspec": {
   "display_name": "python3",
   "language": "python",
   "name": "python3"
  }
 },
 "nbformat": 4,
 "nbformat_minor": 5
}
